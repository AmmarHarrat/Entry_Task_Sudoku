{
 "cells": [
  {
   "cell_type": "markdown",
   "metadata": {},
   "source": [
    "<h1> Test the implemented  model </h1>\n",
    "\n",
    "<i> this is a simple jupyter notebook on how to run different examples using the created model</i>\n",
    "<ul>\n",
    "    <li> execute each of the following cells one time using CTRL + ENTER </li>\n",
    "    <li> in the third cell just give the path of the image to be tested </li>\n",
    "    <li> execute the last cell and as an output an array which contains all the detected sudoku puzzle digits will be printed </li>  \n",
    "    \n",
    "</ul>"
   ]
  },
  {
   "cell_type": "code",
   "execution_count": 19,
   "metadata": {},
   "outputs": [],
   "source": [
    "# load the saved model for testing \n",
    "\n",
    "from keras.models import load_model\n",
    "\n",
    "model = load_model('model_sudoku.h5')"
   ]
  },
  {
   "cell_type": "code",
   "execution_count": 23,
   "metadata": {},
   "outputs": [],
   "source": [
    "# rectify and split_test_image_puzzle are responsible for splitting the sudoku puzzle to cells each cell contains one digit of the puzzle\n",
    "\n",
    "import cv2\n",
    "import numpy as np \n",
    "import pytesseract\n",
    "from skimage.segmentation import clear_border\n",
    "\n",
    "\n",
    "\n",
    "def rectify(h):\n",
    "    \n",
    "        h = h.reshape((4,2))\n",
    "        hnew = np.zeros((4,2),dtype = np.float32)\n",
    "\n",
    "        add = h.sum(1)\n",
    "        hnew[0] = h[np.argmin(add)]\n",
    "        hnew[2] = h[np.argmax(add)]\n",
    "\n",
    "        diff = np.diff(h,axis = 1)\n",
    "        hnew[1] = h[np.argmin(diff)]\n",
    "        hnew[3] = h[np.argmax(diff)]\n",
    "\n",
    "        return hnew\n",
    "\n",
    "\n",
    "# detect the puzzle and split it into 81 images cells digit \n",
    "\n",
    "def split_test_image_puzzle(path : str):\n",
    "    \n",
    "        img=cv2.imread(path)  # give the path file of the test image \n",
    "\n",
    "        img = cv2.resize(img,(450,450))\n",
    "        gray = cv2.cvtColor(img,cv2.COLOR_BGR2GRAY)\n",
    "\n",
    "        gray = cv2.GaussianBlur(gray,(5,5),0)\n",
    "        thresh = cv2.adaptiveThreshold(gray,255,1,1,11,2)\n",
    "\n",
    "\n",
    "        contours,hierarchy = cv2.findContours(thresh, cv2.RETR_TREE, cv2.CHAIN_APPROX_SIMPLE)\n",
    "\n",
    "        biggest = None\n",
    "        max_area = 0\n",
    "        for i in contours:\n",
    "                area = cv2.contourArea(i)\n",
    "                if area > 100:\n",
    "                        peri = cv2.arcLength(i,True)\n",
    "                        approx = cv2.approxPolyDP(i,0.02*peri,True)\n",
    "                        if area > max_area and len(approx)==4:\n",
    "                                biggest = approx\n",
    "                                max_area = area\n",
    "        cv2.drawContours(img, biggest, -1, (0,255,0), 8)\n",
    "\n",
    "\n",
    "\n",
    "        biggest=rectify(biggest)\n",
    "\n",
    "        h = np.array([ [0,0],[449,0],[449,449],[0,449] ],np.float32)\n",
    "        retval = cv2.getPerspectiveTransform(biggest,h)\n",
    "        thresh = cv2.adaptiveThreshold(gray,255,1,1,11,2)\n",
    "\n",
    "        warp = cv2.warpPerspective(thresh,retval,(450,450))   # contains the sudoku puzzle\n",
    "\n",
    "\n",
    "        winX = int(warp.shape[1]/9.0)\n",
    "        winY = int(warp.shape[0]/9.0)\n",
    " \n",
    "        liste3 = [] \n",
    "\n",
    "        #loop through all the cells of the sudoku puzzle and append each digit's image to the list\n",
    "\n",
    "        for y in range(0,warp.shape[0],winY):  \n",
    "            for x in range(0,warp.shape[1],winX):\n",
    "                #slice the cell\n",
    "                window = warp[y:y+winY,x:x+winX]\n",
    "                #sanity check\n",
    "                if window.shape[0] != winY or window.shape[1] != winX:\n",
    "                    continue\n",
    "                clone = warp.copy()\n",
    "                digit = cv2.resize(window,(28,28))\n",
    "\n",
    "                #clear borders\n",
    "\n",
    "\n",
    "                digit = clear_border(digit)  # contains one cell from the puzzle \n",
    "\n",
    "                # append the digit image which corresponds to one cell in the puzzle to a list \n",
    "\n",
    "                liste3.append(digit.reshape(28,28,1)) \n",
    "\n",
    "        \n",
    "        return liste3"
   ]
  },
  {
   "cell_type": "code",
   "execution_count": 24,
   "metadata": {},
   "outputs": [],
   "source": [
    "#load the test image \n",
    "test = split_test_image_puzzle('test_examples_images/image91.jpg')  # give the path of the image to be tested.\n",
    "test = np.asarray(test)\n",
    "test = test.astype(np.float32) / 255"
   ]
  },
  {
   "cell_type": "code",
   "execution_count": 25,
   "metadata": {},
   "outputs": [
    {
     "name": "stdout",
     "output_type": "stream",
     "text": [
      "[[1, 0, 0, 0, 0, 0, 0, 6, 0], [0, 2, 6, 5, 0, 1, 0, 0, 0], [3, 0, 0, 8, 0, 9, 0, 0, 0], [0, 0, 0, 0, 9, 0, 7, 1, 0], [0, 0, 2, 0, 0, 0, 9, 0, 0], [0, 1, 5, 0, 7, 0, 0, 0, 0], [0, 0, 0, 4, 0, 2, 0, 0, 9], [0, 0, 0, 6, 0, 7, 8, 2, 0], [0, 8, 0, 0, 0, 0, 0, 0, 3]]\n"
     ]
    }
   ],
   "source": [
    "# predict and recognize each digit of our sudoku puzzle using the saved model and append the predicted value to the final output array.\n",
    "\n",
    "liste = model.predict_classes(test)\n",
    "data = liste.tolist()\n",
    "print ([data[x:x+9] for x in range(0, len(data), 9)])"
   ]
  }
 ],
 "metadata": {
  "kernelspec": {
   "display_name": "Python 3",
   "language": "python",
   "name": "python3"
  },
  "language_info": {
   "codemirror_mode": {
    "name": "ipython",
    "version": 3
   },
   "file_extension": ".py",
   "mimetype": "text/x-python",
   "name": "python",
   "nbconvert_exporter": "python",
   "pygments_lexer": "ipython3",
   "version": "3.7.4"
  }
 },
 "nbformat": 4,
 "nbformat_minor": 2
}
